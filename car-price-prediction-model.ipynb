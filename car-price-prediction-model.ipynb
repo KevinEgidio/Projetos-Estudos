{
 "cells": [
  {
   "cell_type": "code",
   "execution_count": 1,
   "id": "e713f9ee",
   "metadata": {
    "_cell_guid": "b1076dfc-b9ad-4769-8c92-a6c4dae69d19",
    "_uuid": "8f2839f25d086af736a60e9eeb907d3b93b6e0e5",
    "execution": {
     "iopub.execute_input": "2025-08-07T14:05:40.267660Z",
     "iopub.status.busy": "2025-08-07T14:05:40.267247Z",
     "iopub.status.idle": "2025-08-07T14:05:44.866014Z",
     "shell.execute_reply": "2025-08-07T14:05:44.864760Z"
    },
    "papermill": {
     "duration": 4.605492,
     "end_time": "2025-08-07T14:05:44.867791",
     "exception": false,
     "start_time": "2025-08-07T14:05:40.262299",
     "status": "completed"
    },
    "tags": []
   },
   "outputs": [],
   "source": [
    "import numpy as np\n",
    "import pandas as pd\n",
    "import os\n",
    "import seaborn as sns\n",
    "import matplotlib.pyplot as plt\n",
    "from sklearn.metrics import mean_squared_error, mean_absolute_error\n",
    "from sklearn.linear_model import Lasso, SGDRegressor, Ridge, LinearRegression\n",
    "from sklearn.svm import SVR\n",
    "from sklearn.preprocessing import StandardScaler, LabelEncoder\n",
    "from sklearn.ensemble import RandomForestRegressor\n",
    "from sklearn.gaussian_process import GaussianProcessRegressor\n",
    "from sklearn.gaussian_process.kernels import DotProduct, WhiteKernel\n",
    "from sklearn.tree import DecisionTreeRegressor\n",
    "from sklearn.neighbors import KNeighborsRegressor, RadiusNeighborsRegressor\n",
    "from sklearn.model_selection import train_test_split, GridSearchCV"
   ]
  },
  {
   "cell_type": "code",
   "execution_count": 2,
   "id": "85e985bd",
   "metadata": {
    "execution": {
     "iopub.execute_input": "2025-08-07T14:05:44.874261Z",
     "iopub.status.busy": "2025-08-07T14:05:44.873809Z",
     "iopub.status.idle": "2025-08-07T14:05:44.890021Z",
     "shell.execute_reply": "2025-08-07T14:05:44.889166Z"
    },
    "papermill": {
     "duration": 0.020974,
     "end_time": "2025-08-07T14:05:44.891685",
     "exception": false,
     "start_time": "2025-08-07T14:05:44.870711",
     "status": "completed"
    },
    "tags": []
   },
   "outputs": [],
   "source": [
    "path = \"\"\n",
    "for dirname, _, filenames in os.walk('/kaggle/input'):\n",
    "    for filename in filenames:\n",
    "            path = os.path.join(dirname, filename)"
   ]
  },
  {
   "cell_type": "code",
   "execution_count": 3,
   "id": "be4c36ae",
   "metadata": {
    "execution": {
     "iopub.execute_input": "2025-08-07T14:05:44.898145Z",
     "iopub.status.busy": "2025-08-07T14:05:44.897327Z",
     "iopub.status.idle": "2025-08-07T14:05:44.946451Z",
     "shell.execute_reply": "2025-08-07T14:05:44.945543Z"
    },
    "papermill": {
     "duration": 0.053768,
     "end_time": "2025-08-07T14:05:44.948001",
     "exception": false,
     "start_time": "2025-08-07T14:05:44.894233",
     "status": "completed"
    },
    "tags": []
   },
   "outputs": [
    {
     "data": {
      "text/html": [
       "<div>\n",
       "<style scoped>\n",
       "    .dataframe tbody tr th:only-of-type {\n",
       "        vertical-align: middle;\n",
       "    }\n",
       "\n",
       "    .dataframe tbody tr th {\n",
       "        vertical-align: top;\n",
       "    }\n",
       "\n",
       "    .dataframe thead th {\n",
       "        text-align: right;\n",
       "    }\n",
       "</style>\n",
       "<table border=\"1\" class=\"dataframe\">\n",
       "  <thead>\n",
       "    <tr style=\"text-align: right;\">\n",
       "      <th></th>\n",
       "      <th>Car_Name</th>\n",
       "      <th>Year</th>\n",
       "      <th>Selling_Price</th>\n",
       "      <th>Present_Price</th>\n",
       "      <th>Kms_Driven</th>\n",
       "      <th>Fuel_Type</th>\n",
       "      <th>Seller_Type</th>\n",
       "      <th>Transmission</th>\n",
       "      <th>Owner</th>\n",
       "    </tr>\n",
       "  </thead>\n",
       "  <tbody>\n",
       "    <tr>\n",
       "      <th>0</th>\n",
       "      <td>ritz</td>\n",
       "      <td>2014</td>\n",
       "      <td>3.35</td>\n",
       "      <td>5.59</td>\n",
       "      <td>27000</td>\n",
       "      <td>Petrol</td>\n",
       "      <td>Dealer</td>\n",
       "      <td>Manual</td>\n",
       "      <td>0</td>\n",
       "    </tr>\n",
       "    <tr>\n",
       "      <th>1</th>\n",
       "      <td>sx4</td>\n",
       "      <td>2013</td>\n",
       "      <td>4.75</td>\n",
       "      <td>9.54</td>\n",
       "      <td>43000</td>\n",
       "      <td>Diesel</td>\n",
       "      <td>Dealer</td>\n",
       "      <td>Manual</td>\n",
       "      <td>0</td>\n",
       "    </tr>\n",
       "    <tr>\n",
       "      <th>2</th>\n",
       "      <td>ciaz</td>\n",
       "      <td>2017</td>\n",
       "      <td>7.25</td>\n",
       "      <td>9.85</td>\n",
       "      <td>6900</td>\n",
       "      <td>Petrol</td>\n",
       "      <td>Dealer</td>\n",
       "      <td>Manual</td>\n",
       "      <td>0</td>\n",
       "    </tr>\n",
       "    <tr>\n",
       "      <th>3</th>\n",
       "      <td>wagon r</td>\n",
       "      <td>2011</td>\n",
       "      <td>2.85</td>\n",
       "      <td>4.15</td>\n",
       "      <td>5200</td>\n",
       "      <td>Petrol</td>\n",
       "      <td>Dealer</td>\n",
       "      <td>Manual</td>\n",
       "      <td>0</td>\n",
       "    </tr>\n",
       "    <tr>\n",
       "      <th>4</th>\n",
       "      <td>swift</td>\n",
       "      <td>2014</td>\n",
       "      <td>4.60</td>\n",
       "      <td>6.87</td>\n",
       "      <td>42450</td>\n",
       "      <td>Diesel</td>\n",
       "      <td>Dealer</td>\n",
       "      <td>Manual</td>\n",
       "      <td>0</td>\n",
       "    </tr>\n",
       "  </tbody>\n",
       "</table>\n",
       "</div>"
      ],
      "text/plain": [
       "  Car_Name  Year  Selling_Price  Present_Price  Kms_Driven Fuel_Type  \\\n",
       "0     ritz  2014           3.35           5.59       27000    Petrol   \n",
       "1      sx4  2013           4.75           9.54       43000    Diesel   \n",
       "2     ciaz  2017           7.25           9.85        6900    Petrol   \n",
       "3  wagon r  2011           2.85           4.15        5200    Petrol   \n",
       "4    swift  2014           4.60           6.87       42450    Diesel   \n",
       "\n",
       "  Seller_Type Transmission  Owner  \n",
       "0      Dealer       Manual      0  \n",
       "1      Dealer       Manual      0  \n",
       "2      Dealer       Manual      0  \n",
       "3      Dealer       Manual      0  \n",
       "4      Dealer       Manual      0  "
      ]
     },
     "execution_count": 3,
     "metadata": {},
     "output_type": "execute_result"
    }
   ],
   "source": [
    "data = pd.read_csv(path)\n",
    "data.head()"
   ]
  },
  {
   "cell_type": "code",
   "execution_count": 4,
   "id": "8ac0cd0a",
   "metadata": {
    "execution": {
     "iopub.execute_input": "2025-08-07T14:05:44.954491Z",
     "iopub.status.busy": "2025-08-07T14:05:44.954160Z",
     "iopub.status.idle": "2025-08-07T14:05:44.965807Z",
     "shell.execute_reply": "2025-08-07T14:05:44.964801Z"
    },
    "papermill": {
     "duration": 0.016607,
     "end_time": "2025-08-07T14:05:44.967314",
     "exception": false,
     "start_time": "2025-08-07T14:05:44.950707",
     "status": "completed"
    },
    "tags": []
   },
   "outputs": [
    {
     "name": "stdout",
     "output_type": "stream",
     "text": [
      "car_name_labels = ['800' 'Activa 3g' 'Activa 4g' 'Bajaj  ct 100' 'Bajaj Avenger 150'\n",
      " 'Bajaj Avenger 150 street' 'Bajaj Avenger 220' 'Bajaj Avenger 220 dtsi'\n",
      " 'Bajaj Avenger Street 220' 'Bajaj Discover 100' 'Bajaj Discover 125'\n",
      " 'Bajaj Dominar 400' 'Bajaj Pulsar  NS 200' 'Bajaj Pulsar 135 LS'\n",
      " 'Bajaj Pulsar 150' 'Bajaj Pulsar 220 F' 'Bajaj Pulsar NS 200'\n",
      " 'Bajaj Pulsar RS200' 'Hero  CBZ Xtreme' 'Hero  Ignitor Disc'\n",
      " 'Hero Extreme' 'Hero Glamour' 'Hero Honda CBZ extreme'\n",
      " 'Hero Honda Passion Pro' 'Hero Hunk' 'Hero Passion Pro'\n",
      " 'Hero Passion X pro' 'Hero Splender Plus' 'Hero Splender iSmart'\n",
      " 'Hero Super Splendor' 'Honda Activa 125' 'Honda Activa 4G'\n",
      " 'Honda CB Hornet 160R' 'Honda CB Shine' 'Honda CB Trigger'\n",
      " 'Honda CB Unicorn' 'Honda CB twister' 'Honda CBR 150' 'Honda Dream Yuga '\n",
      " 'Honda Karizma' 'Hyosung GT250R' 'KTM 390 Duke ' 'KTM RC200' 'KTM RC390'\n",
      " 'Mahindra Mojo XT300' 'Royal Enfield Bullet 350'\n",
      " 'Royal Enfield Classic 350' 'Royal Enfield Classic 500'\n",
      " 'Royal Enfield Thunder 350' 'Royal Enfield Thunder 500'\n",
      " 'Suzuki Access 125' 'TVS Apache RTR 160' 'TVS Apache RTR 180'\n",
      " 'TVS Jupyter' 'TVS Sport ' 'TVS Wego' 'UM Renegade Mojave'\n",
      " 'Yamaha FZ  v 2.0' 'Yamaha FZ 16' 'Yamaha FZ S ' 'Yamaha FZ S V 2.0'\n",
      " 'Yamaha Fazer ' 'alto 800' 'alto k10' 'amaze' 'baleno' 'brio' 'camry'\n",
      " 'ciaz' 'city' 'corolla' 'corolla altis' 'creta' 'dzire' 'elantra' 'eon'\n",
      " 'ertiga' 'etios cross' 'etios g' 'etios gd' 'etios liva' 'fortuner'\n",
      " 'grand i10' 'i10' 'i20' 'ignis' 'innova' 'jazz' 'land cruiser' 'omni'\n",
      " 'ritz' 's cross' 'swift' 'sx4' 'verna' 'vitara brezza' 'wagon r' 'xcent']\n",
      "fuel_type_labels = ['CNG' 'Diesel' 'Petrol']\n",
      "seller_type_labels = ['Dealer' 'Individual']\n",
      "transmission_labels = ['Automatic' 'Manual']\n"
     ]
    }
   ],
   "source": [
    "lb = LabelEncoder()\n",
    "\n",
    "data['Car_Name'] = lb.fit_transform(data['Car_Name'])\n",
    "car_name_labels = lb.classes_\n",
    "\n",
    "data['Fuel_Type'] = lb.fit_transform(data['Fuel_Type'])\n",
    "fuel_type_labels = lb.classes_\n",
    "\n",
    "data['Seller_Type'] = lb.fit_transform(data['Seller_Type'])\n",
    "seller_type_labels = lb.classes_\n",
    "\n",
    "data['Transmission'] = lb.fit_transform(data['Transmission'])\n",
    "transmission_labels = lb.classes_\n",
    "\n",
    "print(\"car_name_labels =\", car_name_labels)\n",
    "print(\"fuel_type_labels =\", fuel_type_labels)\n",
    "print(\"seller_type_labels =\", seller_type_labels)\n",
    "print(\"transmission_labels =\", transmission_labels)"
   ]
  },
  {
   "cell_type": "code",
   "execution_count": 5,
   "id": "a4218a75",
   "metadata": {
    "execution": {
     "iopub.execute_input": "2025-08-07T14:05:44.973883Z",
     "iopub.status.busy": "2025-08-07T14:05:44.973553Z",
     "iopub.status.idle": "2025-08-07T14:05:44.985844Z",
     "shell.execute_reply": "2025-08-07T14:05:44.985027Z"
    },
    "papermill": {
     "duration": 0.017343,
     "end_time": "2025-08-07T14:05:44.987435",
     "exception": false,
     "start_time": "2025-08-07T14:05:44.970092",
     "status": "completed"
    },
    "tags": []
   },
   "outputs": [
    {
     "name": "stdout",
     "output_type": "stream",
     "text": [
      "[-0.17450057  3.86585888 11.94657778]\n"
     ]
    }
   ],
   "source": [
    "std = StandardScaler()\n",
    "newData = pd.DataFrame(std.fit_transform(data))\n",
    "\n",
    "newData[8] = lb.fit_transform(newData[8])\n",
    "print(lb.classes_)"
   ]
  },
  {
   "cell_type": "code",
   "execution_count": 6,
   "id": "8ac4e613",
   "metadata": {
    "execution": {
     "iopub.execute_input": "2025-08-07T14:05:44.993713Z",
     "iopub.status.busy": "2025-08-07T14:05:44.993439Z",
     "iopub.status.idle": "2025-08-07T14:05:45.006040Z",
     "shell.execute_reply": "2025-08-07T14:05:45.005096Z"
    },
    "papermill": {
     "duration": 0.017388,
     "end_time": "2025-08-07T14:05:45.007509",
     "exception": false,
     "start_time": "2025-08-07T14:05:44.990121",
     "status": "completed"
    },
    "tags": []
   },
   "outputs": [
    {
     "data": {
      "text/html": [
       "<div>\n",
       "<style scoped>\n",
       "    .dataframe tbody tr th:only-of-type {\n",
       "        vertical-align: middle;\n",
       "    }\n",
       "\n",
       "    .dataframe tbody tr th {\n",
       "        vertical-align: top;\n",
       "    }\n",
       "\n",
       "    .dataframe thead th {\n",
       "        text-align: right;\n",
       "    }\n",
       "</style>\n",
       "<table border=\"1\" class=\"dataframe\">\n",
       "  <thead>\n",
       "    <tr style=\"text-align: right;\">\n",
       "      <th></th>\n",
       "      <th>0</th>\n",
       "      <th>1</th>\n",
       "      <th>2</th>\n",
       "      <th>3</th>\n",
       "      <th>4</th>\n",
       "      <th>5</th>\n",
       "      <th>6</th>\n",
       "      <th>7</th>\n",
       "      <th>8</th>\n",
       "    </tr>\n",
       "  </thead>\n",
       "  <tbody>\n",
       "    <tr>\n",
       "      <th>0</th>\n",
       "      <td>1.074323</td>\n",
       "      <td>0.128897</td>\n",
       "      <td>-0.258416</td>\n",
       "      <td>-0.236215</td>\n",
       "      <td>-0.256224</td>\n",
       "      <td>0.500183</td>\n",
       "      <td>-0.737285</td>\n",
       "      <td>0.39148</td>\n",
       "      <td>0</td>\n",
       "    </tr>\n",
       "    <tr>\n",
       "      <th>1</th>\n",
       "      <td>1.191828</td>\n",
       "      <td>-0.217514</td>\n",
       "      <td>0.017481</td>\n",
       "      <td>0.221505</td>\n",
       "      <td>0.155911</td>\n",
       "      <td>-1.852241</td>\n",
       "      <td>-0.737285</td>\n",
       "      <td>0.39148</td>\n",
       "      <td>0</td>\n",
       "    </tr>\n",
       "    <tr>\n",
       "      <th>2</th>\n",
       "      <td>0.212627</td>\n",
       "      <td>1.168129</td>\n",
       "      <td>0.510154</td>\n",
       "      <td>0.257427</td>\n",
       "      <td>-0.773969</td>\n",
       "      <td>0.500183</td>\n",
       "      <td>-0.737285</td>\n",
       "      <td>0.39148</td>\n",
       "      <td>0</td>\n",
       "    </tr>\n",
       "    <tr>\n",
       "      <th>3</th>\n",
       "      <td>1.309332</td>\n",
       "      <td>-0.910335</td>\n",
       "      <td>-0.356950</td>\n",
       "      <td>-0.403079</td>\n",
       "      <td>-0.817758</td>\n",
       "      <td>0.500183</td>\n",
       "      <td>-0.737285</td>\n",
       "      <td>0.39148</td>\n",
       "      <td>0</td>\n",
       "    </tr>\n",
       "    <tr>\n",
       "      <th>4</th>\n",
       "      <td>1.152659</td>\n",
       "      <td>0.128897</td>\n",
       "      <td>-0.012079</td>\n",
       "      <td>-0.087890</td>\n",
       "      <td>0.141743</td>\n",
       "      <td>-1.852241</td>\n",
       "      <td>-0.737285</td>\n",
       "      <td>0.39148</td>\n",
       "      <td>0</td>\n",
       "    </tr>\n",
       "  </tbody>\n",
       "</table>\n",
       "</div>"
      ],
      "text/plain": [
       "          0         1         2         3         4         5         6  \\\n",
       "0  1.074323  0.128897 -0.258416 -0.236215 -0.256224  0.500183 -0.737285   \n",
       "1  1.191828 -0.217514  0.017481  0.221505  0.155911 -1.852241 -0.737285   \n",
       "2  0.212627  1.168129  0.510154  0.257427 -0.773969  0.500183 -0.737285   \n",
       "3  1.309332 -0.910335 -0.356950 -0.403079 -0.817758  0.500183 -0.737285   \n",
       "4  1.152659  0.128897 -0.012079 -0.087890  0.141743 -1.852241 -0.737285   \n",
       "\n",
       "         7  8  \n",
       "0  0.39148  0  \n",
       "1  0.39148  0  \n",
       "2  0.39148  0  \n",
       "3  0.39148  0  \n",
       "4  0.39148  0  "
      ]
     },
     "execution_count": 6,
     "metadata": {},
     "output_type": "execute_result"
    }
   ],
   "source": [
    "newData.head()"
   ]
  },
  {
   "cell_type": "code",
   "execution_count": 7,
   "id": "46f2651e",
   "metadata": {
    "execution": {
     "iopub.execute_input": "2025-08-07T14:05:45.014245Z",
     "iopub.status.busy": "2025-08-07T14:05:45.013959Z",
     "iopub.status.idle": "2025-08-07T14:05:45.055199Z",
     "shell.execute_reply": "2025-08-07T14:05:45.054254Z"
    },
    "papermill": {
     "duration": 0.046444,
     "end_time": "2025-08-07T14:05:45.056828",
     "exception": false,
     "start_time": "2025-08-07T14:05:45.010384",
     "status": "completed"
    },
    "tags": []
   },
   "outputs": [
    {
     "data": {
      "text/html": [
       "<div>\n",
       "<style scoped>\n",
       "    .dataframe tbody tr th:only-of-type {\n",
       "        vertical-align: middle;\n",
       "    }\n",
       "\n",
       "    .dataframe tbody tr th {\n",
       "        vertical-align: top;\n",
       "    }\n",
       "\n",
       "    .dataframe thead th {\n",
       "        text-align: right;\n",
       "    }\n",
       "</style>\n",
       "<table border=\"1\" class=\"dataframe\">\n",
       "  <thead>\n",
       "    <tr style=\"text-align: right;\">\n",
       "      <th></th>\n",
       "      <th>0</th>\n",
       "      <th>1</th>\n",
       "      <th>2</th>\n",
       "      <th>3</th>\n",
       "      <th>4</th>\n",
       "      <th>5</th>\n",
       "      <th>6</th>\n",
       "      <th>7</th>\n",
       "      <th>8</th>\n",
       "    </tr>\n",
       "  </thead>\n",
       "  <tbody>\n",
       "    <tr>\n",
       "      <th>count</th>\n",
       "      <td>3.010000e+02</td>\n",
       "      <td>3.010000e+02</td>\n",
       "      <td>3.010000e+02</td>\n",
       "      <td>3.010000e+02</td>\n",
       "      <td>3.010000e+02</td>\n",
       "      <td>3.010000e+02</td>\n",
       "      <td>3.010000e+02</td>\n",
       "      <td>3.010000e+02</td>\n",
       "      <td>301.000000</td>\n",
       "    </tr>\n",
       "    <tr>\n",
       "      <th>mean</th>\n",
       "      <td>8.262125e-17</td>\n",
       "      <td>-2.929218e-14</td>\n",
       "      <td>-7.081821e-17</td>\n",
       "      <td>-7.081821e-17</td>\n",
       "      <td>5.016290e-17</td>\n",
       "      <td>1.062273e-16</td>\n",
       "      <td>1.180304e-16</td>\n",
       "      <td>-5.311366e-17</td>\n",
       "      <td>0.039867</td>\n",
       "    </tr>\n",
       "    <tr>\n",
       "      <th>std</th>\n",
       "      <td>1.001665e+00</td>\n",
       "      <td>1.001665e+00</td>\n",
       "      <td>1.001665e+00</td>\n",
       "      <td>1.001665e+00</td>\n",
       "      <td>1.001665e+00</td>\n",
       "      <td>1.001665e+00</td>\n",
       "      <td>1.001665e+00</td>\n",
       "      <td>1.001665e+00</td>\n",
       "      <td>0.212302</td>\n",
       "    </tr>\n",
       "    <tr>\n",
       "      <th>min</th>\n",
       "      <td>-2.450800e+00</td>\n",
       "      <td>-3.681621e+00</td>\n",
       "      <td>-8.988906e-01</td>\n",
       "      <td>-8.468932e-01</td>\n",
       "      <td>-9.388230e-01</td>\n",
       "      <td>-4.204665e+00</td>\n",
       "      <td>-7.372854e-01</td>\n",
       "      <td>-2.554408e+00</td>\n",
       "      <td>0.000000</td>\n",
       "    </tr>\n",
       "    <tr>\n",
       "      <th>25%</th>\n",
       "      <td>-6.099024e-01</td>\n",
       "      <td>-5.639244e-01</td>\n",
       "      <td>-7.412353e-01</td>\n",
       "      <td>-7.449203e-01</td>\n",
       "      <td>-5.653257e-01</td>\n",
       "      <td>5.001832e-01</td>\n",
       "      <td>-7.372854e-01</td>\n",
       "      <td>3.914801e-01</td>\n",
       "      <td>0.000000</td>\n",
       "    </tr>\n",
       "    <tr>\n",
       "      <th>50%</th>\n",
       "      <td>2.517945e-01</td>\n",
       "      <td>1.288970e-01</td>\n",
       "      <td>-2.091486e-01</td>\n",
       "      <td>-1.423532e-01</td>\n",
       "      <td>-1.274323e-01</td>\n",
       "      <td>5.001832e-01</td>\n",
       "      <td>-7.372854e-01</td>\n",
       "      <td>3.914801e-01</td>\n",
       "      <td>0.000000</td>\n",
       "    </tr>\n",
       "    <tr>\n",
       "      <th>75%</th>\n",
       "      <td>7.609791e-01</td>\n",
       "      <td>8.217184e-01</td>\n",
       "      <td>2.638173e-01</td>\n",
       "      <td>2.632208e-01</td>\n",
       "      <td>3.044594e-01</td>\n",
       "      <td>5.001832e-01</td>\n",
       "      <td>1.356327e+00</td>\n",
       "      <td>3.914801e-01</td>\n",
       "      <td>0.000000</td>\n",
       "    </tr>\n",
       "    <tr>\n",
       "      <th>max</th>\n",
       "      <td>1.348500e+00</td>\n",
       "      <td>1.514540e+00</td>\n",
       "      <td>5.978822e+00</td>\n",
       "      <td>9.846355e+00</td>\n",
       "      <td>1.192752e+01</td>\n",
       "      <td>5.001832e-01</td>\n",
       "      <td>1.356327e+00</td>\n",
       "      <td>3.914801e-01</td>\n",
       "      <td>2.000000</td>\n",
       "    </tr>\n",
       "  </tbody>\n",
       "</table>\n",
       "</div>"
      ],
      "text/plain": [
       "                  0             1             2             3             4  \\\n",
       "count  3.010000e+02  3.010000e+02  3.010000e+02  3.010000e+02  3.010000e+02   \n",
       "mean   8.262125e-17 -2.929218e-14 -7.081821e-17 -7.081821e-17  5.016290e-17   \n",
       "std    1.001665e+00  1.001665e+00  1.001665e+00  1.001665e+00  1.001665e+00   \n",
       "min   -2.450800e+00 -3.681621e+00 -8.988906e-01 -8.468932e-01 -9.388230e-01   \n",
       "25%   -6.099024e-01 -5.639244e-01 -7.412353e-01 -7.449203e-01 -5.653257e-01   \n",
       "50%    2.517945e-01  1.288970e-01 -2.091486e-01 -1.423532e-01 -1.274323e-01   \n",
       "75%    7.609791e-01  8.217184e-01  2.638173e-01  2.632208e-01  3.044594e-01   \n",
       "max    1.348500e+00  1.514540e+00  5.978822e+00  9.846355e+00  1.192752e+01   \n",
       "\n",
       "                  5             6             7           8  \n",
       "count  3.010000e+02  3.010000e+02  3.010000e+02  301.000000  \n",
       "mean   1.062273e-16  1.180304e-16 -5.311366e-17    0.039867  \n",
       "std    1.001665e+00  1.001665e+00  1.001665e+00    0.212302  \n",
       "min   -4.204665e+00 -7.372854e-01 -2.554408e+00    0.000000  \n",
       "25%    5.001832e-01 -7.372854e-01  3.914801e-01    0.000000  \n",
       "50%    5.001832e-01 -7.372854e-01  3.914801e-01    0.000000  \n",
       "75%    5.001832e-01  1.356327e+00  3.914801e-01    0.000000  \n",
       "max    5.001832e-01  1.356327e+00  3.914801e-01    2.000000  "
      ]
     },
     "execution_count": 7,
     "metadata": {},
     "output_type": "execute_result"
    }
   ],
   "source": [
    "newData.describe()"
   ]
  },
  {
   "cell_type": "code",
   "execution_count": 8,
   "id": "c600f79b",
   "metadata": {
    "execution": {
     "iopub.execute_input": "2025-08-07T14:05:45.064497Z",
     "iopub.status.busy": "2025-08-07T14:05:45.064156Z",
     "iopub.status.idle": "2025-08-07T14:05:45.593633Z",
     "shell.execute_reply": "2025-08-07T14:05:45.592672Z"
    },
    "papermill": {
     "duration": 0.536173,
     "end_time": "2025-08-07T14:05:45.596396",
     "exception": false,
     "start_time": "2025-08-07T14:05:45.060223",
     "status": "completed"
    },
    "tags": []
   },
   "outputs": [
    {
     "data": {
      "image/png": "[encoded data removed]",
      "text/plain": [
       "<Figure size 1500x1000 with 2 Axes>"
      ]
     },
     "metadata": {},
     "output_type": "display_data"
    }
   ],
   "source": [
    "plt.figure(figsize = (15,10))\n",
    "sns.heatmap(newData.corr(), annot = True)\n",
    "plt.show()"
   ]
  },
  {
   "cell_type": "code",
   "execution_count": null,
   "id": "ef6cf30a",
   "metadata": {
    "papermill": {
     "duration": 0.004506,
     "end_time": "2025-08-07T14:05:45.605593",
     "exception": false,
     "start_time": "2025-08-07T14:05:45.601087",
     "status": "completed"
    },
    "tags": []
   },
   "outputs": [],
   "source": []
  }
 ],
 "metadata": {
  "kaggle": {
   "accelerator": "none",
   "dataSources": [
    {
     "datasetId": 4210881,
     "sourceId": 7265027,
     "sourceType": "datasetVersion"
    }
   ],
   "dockerImageVersionId": 31089,
   "isGpuEnabled": false,
   "isInternetEnabled": false,
   "language": "python",
   "sourceType": "notebook"
  },
  "kernelspec": {
   "display_name": "Python 3",
   "language": "python",
   "name": "python3"
  },
  "language_info": {
   "codemirror_mode": {
    "name": "ipython",
    "version": 3
   },
   "file_extension": ".py",
   "mimetype": "text/x-python",
   "name": "python",
   "nbconvert_exporter": "python",
   "pygments_lexer": "ipython3",
   "version": "3.11.13"
  },
  "papermill": {
   "default_parameters": {},
   "duration": 11.12682,
   "end_time": "2025-08-07T14:05:46.330302",
   "environment_variables": {},
   "exception": null,
   "input_path": "__notebook__.ipynb",
   "output_path": "__notebook__.ipynb",
   "parameters": {},
   "start_time": "2025-08-07T14:05:35.203482",
   "version": "2.6.0"
  }
 },
 "nbformat": 4,
 "nbformat_minor": 5
}
