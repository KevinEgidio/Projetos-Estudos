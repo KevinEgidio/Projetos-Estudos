{
 "cells": [
  {
   "cell_type": "markdown",
   "id": "0e745c97",
   "metadata": {
    "papermill": {
     "duration": 0.002652,
     "end_time": "2025-08-07T09:47:20.054834",
     "exception": false,
     "start_time": "2025-08-07T09:47:20.052182",
     "status": "completed"
    },
    "tags": []
   },
   "source": [
    "- Import libraries + import datasets."
   ]
  },
  {
   "cell_type": "code",
   "execution_count": 1,
   "id": "7f3858e2",
   "metadata": {
    "execution": {
     "iopub.execute_input": "2025-08-07T09:47:20.060105Z",
     "iopub.status.busy": "2025-08-07T09:47:20.059858Z",
     "iopub.status.idle": "2025-08-07T09:47:27.782990Z",
     "shell.execute_reply": "2025-08-07T09:47:27.782139Z"
    },
    "papermill": {
     "duration": 7.72739,
     "end_time": "2025-08-07T09:47:27.784549",
     "exception": false,
     "start_time": "2025-08-07T09:47:20.057159",
     "status": "completed"
    },
    "tags": []
   },
   "outputs": [],
   "source": [
    "import numpy as np\n",
    "import pandas as pd\n",
    "from sklearn.model_selection import train_test_split, StratifiedKFold\n",
    "from catboost import CatBoostClassifier\n",
    "from sklearn.metrics import roc_auc_score\n",
    "from joblib import Parallel, delayed\n",
    "import warnings\n",
    "from sklearn.preprocessing import StandardScaler\n",
    "warnings.filterwarnings('ignore')\n",
    "\n",
    "train = pd.read_csv(\"/kaggle/input/playground-series-s5e8/train.csv\", index_col='id')\n",
    "test = pd.read_csv(\"/kaggle/input/playground-series-s5e8/test.csv\", index_col='id')"
   ]
  },
  {
   "cell_type": "markdown",
   "id": "5b948090",
   "metadata": {
    "papermill": {
     "duration": 0.001928,
     "end_time": "2025-08-07T09:47:27.788927",
     "exception": false,
     "start_time": "2025-08-07T09:47:27.786999",
     "status": "completed"
    },
    "tags": []
   },
   "source": [
    "- Define features"
   ]
  },
  {
   "cell_type": "code",
   "execution_count": 2,
   "id": "05bbb70b",
   "metadata": {
    "execution": {
     "iopub.execute_input": "2025-08-07T09:47:27.794331Z",
     "iopub.status.busy": "2025-08-07T09:47:27.793702Z",
     "iopub.status.idle": "2025-08-07T09:47:27.797594Z",
     "shell.execute_reply": "2025-08-07T09:47:27.796914Z"
    },
    "papermill": {
     "duration": 0.007813,
     "end_time": "2025-08-07T09:47:27.798716",
     "exception": false,
     "start_time": "2025-08-07T09:47:27.790903",
     "status": "completed"
    },
    "tags": []
   },
   "outputs": [],
   "source": [
    "numerical_features = ['age', 'balance', 'duration', 'campaign', 'pdays', 'previous']\n",
    "categorical_features = ['job', 'marital', 'education', 'default', 'housing', 'loan', 'contact', 'day', 'month', 'poutcome']\n",
    "target = 'y'"
   ]
  },
  {
   "cell_type": "markdown",
   "id": "a14d64bf",
   "metadata": {
    "execution": {
     "iopub.execute_input": "2025-08-06T12:56:58.708368Z",
     "iopub.status.busy": "2025-08-06T12:56:58.708013Z",
     "iopub.status.idle": "2025-08-06T12:56:58.859549Z",
     "shell.execute_reply": "2025-08-06T12:56:58.858086Z",
     "shell.execute_reply.started": "2025-08-06T12:56:58.708344Z"
    },
    "papermill": {
     "duration": 0.001836,
     "end_time": "2025-08-07T09:47:27.802555",
     "exception": false,
     "start_time": "2025-08-07T09:47:27.800719",
     "status": "completed"
    },
    "tags": []
   },
   "source": [
    "- Preprocessing"
   ]
  },
  {
   "cell_type": "code",
   "execution_count": 3,
   "id": "70c025ca",
   "metadata": {
    "execution": {
     "iopub.execute_input": "2025-08-07T09:47:27.807126Z",
     "iopub.status.busy": "2025-08-07T09:47:27.806920Z",
     "iopub.status.idle": "2025-08-07T09:47:31.856811Z",
     "shell.execute_reply": "2025-08-07T09:47:31.856107Z"
    },
    "papermill": {
     "duration": 4.053649,
     "end_time": "2025-08-07T09:47:31.858096",
     "exception": false,
     "start_time": "2025-08-07T09:47:27.804447",
     "status": "completed"
    },
    "tags": []
   },
   "outputs": [],
   "source": [
    "def preprocess_data(df, numerical_features, categorical_features):\n",
    "    df = df.copy()\n",
    "\n",
    "    for col in numerical_features:\n",
    "        df[col] = pd.to_numeric(df[col], errors='coerce')\n",
    "        df[col].fillna(df[col].median(), inplace=True)\n",
    "\n",
    "    df['balance_per_age'] = df['balance'] / (df['age'] + 1)\n",
    "    df['duration_campaign_ratio'] = df['duration'] / (df['campaign'] + 1)\n",
    "    df['pdays_binary'] = (df['pdays'] > -1).astype(int)\n",
    "\n",
    "    all_numerical = numerical_features + ['balance_per_age', 'duration_campaign_ratio', 'pdays_binary']\n",
    "    for col in all_numerical:\n",
    "        df[col] = df[col].astype(str)\n",
    "\n",
    "    for col in categorical_features:\n",
    "        df[col].fillna('unknown', inplace=True)\n",
    "        df[col] = df[col].astype(str)\n",
    "    \n",
    "    return df\n",
    "\n",
    "train = preprocess_data(train, numerical_features, categorical_features)\n",
    "test = preprocess_data(test, numerical_features, categorical_features)\n",
    "all_features = numerical_features + categorical_features + ['balance_per_age', 'duration_campaign_ratio', 'pdays_binary']"
   ]
  },
  {
   "cell_type": "markdown",
   "id": "b1dfd151",
   "metadata": {
    "papermill": {
     "duration": 0.001916,
     "end_time": "2025-08-07T09:47:31.862482",
     "exception": false,
     "start_time": "2025-08-07T09:47:31.860566",
     "status": "completed"
    },
    "tags": []
   },
   "source": [
    "- Split data"
   ]
  },
  {
   "cell_type": "code",
   "execution_count": 4,
   "id": "65538c69",
   "metadata": {
    "execution": {
     "iopub.execute_input": "2025-08-07T09:47:31.867340Z",
     "iopub.status.busy": "2025-08-07T09:47:31.867064Z",
     "iopub.status.idle": "2025-08-07T09:47:33.428428Z",
     "shell.execute_reply": "2025-08-07T09:47:33.427500Z"
    },
    "papermill": {
     "duration": 1.565494,
     "end_time": "2025-08-07T09:47:33.429932",
     "exception": false,
     "start_time": "2025-08-07T09:47:31.864438",
     "status": "completed"
    },
    "tags": []
   },
   "outputs": [],
   "source": [
    "X = train.drop(target, axis=1)\n",
    "y = train[\"y\"]\n",
    "X_train, X_test, y_train, y_test = train_test_split(X, y, test_size=0.2, stratify=y, random_state=0)"
   ]
  },
  {
   "cell_type": "markdown",
   "id": "50aedf0a",
   "metadata": {
    "papermill": {
     "duration": 0.002564,
     "end_time": "2025-08-07T09:47:33.435051",
     "exception": false,
     "start_time": "2025-08-07T09:47:33.432487",
     "status": "completed"
    },
    "tags": []
   },
   "source": [
    "- CatBoost model with cross-validation"
   ]
  },
  {
   "cell_type": "code",
   "execution_count": 5,
   "id": "78af5152",
   "metadata": {
    "execution": {
     "iopub.execute_input": "2025-08-07T09:47:33.440552Z",
     "iopub.status.busy": "2025-08-07T09:47:33.440263Z",
     "iopub.status.idle": "2025-08-07T09:47:33.444013Z",
     "shell.execute_reply": "2025-08-07T09:47:33.443470Z"
    },
    "papermill": {
     "duration": 0.007583,
     "end_time": "2025-08-07T09:47:33.445032",
     "exception": false,
     "start_time": "2025-08-07T09:47:33.437449",
     "status": "completed"
    },
    "tags": []
   },
   "outputs": [],
   "source": [
    "params = {\n",
    "        'iterations': 12000,\n",
    "        'learning_rate': 0.02,\n",
    "        'depth': 4,\n",
    "        'l2_leaf_reg': 1,\n",
    "        'cat_features': all_features,\n",
    "        'task_type': 'GPU',\n",
    "        'verbose': 500,\n",
    "        'early_stopping_rounds': 500,\n",
    "        'random_seed': 0,\n",
    "        \"devices\": \"0:1\"\n",
    "}"
   ]
  },
  {
   "cell_type": "markdown",
   "id": "e7d76e63",
   "metadata": {
    "papermill": {
     "duration": 0.00186,
     "end_time": "2025-08-07T09:47:33.448875",
     "exception": false,
     "start_time": "2025-08-07T09:47:33.447015",
     "status": "completed"
    },
    "tags": []
   },
   "source": [
    "- Cross-validation"
   ]
  },
  {
   "cell_type": "code",
   "execution_count": 6,
   "id": "4ad4d52b",
   "metadata": {
    "execution": {
     "iopub.execute_input": "2025-08-07T09:47:33.454163Z",
     "iopub.status.busy": "2025-08-07T09:47:33.453520Z",
     "iopub.status.idle": "2025-08-07T10:35:38.062378Z",
     "shell.execute_reply": "2025-08-07T10:35:38.061521Z"
    },
    "papermill": {
     "duration": 2884.61297,
     "end_time": "2025-08-07T10:35:38.063799",
     "exception": false,
     "start_time": "2025-08-07T09:47:33.450829",
     "status": "completed"
    },
    "tags": []
   },
   "outputs": [
    {
     "name": "stdout",
     "output_type": "stream",
     "text": [
      "Fold 1/5\n",
      "0:\tlearn: 0.6635734\ttest: 0.6633718\tbest: 0.6633718 (0)\ttotal: 201ms\tremaining: 40m 10s\n",
      "500:\tlearn: 0.1478775\ttest: 0.1414461\tbest: 0.1414461 (500)\ttotal: 23s\tremaining: 8m 48s\n",
      "1000:\tlearn: 0.1440100\ttest: 0.1374373\tbest: 0.1374373 (1000)\ttotal: 45.5s\tremaining: 8m 19s\n",
      "1500:\tlearn: 0.1423869\ttest: 0.1359122\tbest: 0.1359122 (1500)\ttotal: 1m 8s\tremaining: 7m 57s\n",
      "2000:\tlearn: 0.1413483\ttest: 0.1350032\tbest: 0.1350032 (2000)\ttotal: 1m 31s\tremaining: 7m 37s\n",
      "2500:\tlearn: 0.1405889\ttest: 0.1344100\tbest: 0.1344100 (2500)\ttotal: 1m 54s\tremaining: 7m 15s\n",
      "3000:\tlearn: 0.1399805\ttest: 0.1340129\tbest: 0.1340129 (3000)\ttotal: 2m 18s\tremaining: 6m 54s\n",
      "3500:\tlearn: 0.1394743\ttest: 0.1336919\tbest: 0.1336919 (3500)\ttotal: 2m 41s\tremaining: 6m 32s\n",
      "4000:\tlearn: 0.1389818\ttest: 0.1333775\tbest: 0.1333775 (4000)\ttotal: 3m 4s\tremaining: 6m 9s\n",
      "4500:\tlearn: 0.1385760\ttest: 0.1331577\tbest: 0.1331577 (4500)\ttotal: 3m 28s\tremaining: 5m 46s\n",
      "5000:\tlearn: 0.1382039\ttest: 0.1329692\tbest: 0.1329692 (5000)\ttotal: 3m 51s\tremaining: 5m 24s\n",
      "5500:\tlearn: 0.1378548\ttest: 0.1328146\tbest: 0.1328146 (5500)\ttotal: 4m 15s\tremaining: 5m 1s\n",
      "6000:\tlearn: 0.1375277\ttest: 0.1326660\tbest: 0.1326655 (5990)\ttotal: 4m 38s\tremaining: 4m 38s\n",
      "6500:\tlearn: 0.1372098\ttest: 0.1325229\tbest: 0.1325228 (6499)\ttotal: 5m 2s\tremaining: 4m 15s\n",
      "7000:\tlearn: 0.1369323\ttest: 0.1324236\tbest: 0.1324234 (6998)\ttotal: 5m 25s\tremaining: 3m 52s\n",
      "7500:\tlearn: 0.1366501\ttest: 0.1323126\tbest: 0.1323124 (7499)\ttotal: 5m 49s\tremaining: 3m 29s\n",
      "8000:\tlearn: 0.1363937\ttest: 0.1322405\tbest: 0.1322405 (8000)\ttotal: 6m 12s\tremaining: 3m 6s\n",
      "8500:\tlearn: 0.1361549\ttest: 0.1321635\tbest: 0.1321635 (8500)\ttotal: 6m 35s\tremaining: 2m 42s\n",
      "9000:\tlearn: 0.1358921\ttest: 0.1320701\tbest: 0.1320694 (8995)\ttotal: 6m 59s\tremaining: 2m 19s\n",
      "9500:\tlearn: 0.1356571\ttest: 0.1319970\tbest: 0.1319970 (9500)\ttotal: 7m 23s\tremaining: 1m 56s\n",
      "10000:\tlearn: 0.1354239\ttest: 0.1319297\tbest: 0.1319297 (9998)\ttotal: 7m 46s\tremaining: 1m 33s\n",
      "10500:\tlearn: 0.1351909\ttest: 0.1318708\tbest: 0.1318702 (10490)\ttotal: 8m 10s\tremaining: 1m 9s\n",
      "11000:\tlearn: 0.1349751\ttest: 0.1318105\tbest: 0.1318105 (11000)\ttotal: 8m 33s\tremaining: 46.6s\n",
      "11500:\tlearn: 0.1347483\ttest: 0.1317576\tbest: 0.1317576 (11500)\ttotal: 8m 57s\tremaining: 23.3s\n",
      "11999:\tlearn: 0.1345208\ttest: 0.1316962\tbest: 0.1316962 (11999)\ttotal: 9m 20s\tremaining: 0us\n",
      "bestTest = 0.1316961719\n",
      "bestIteration = 11999\n",
      "Fold 2/5\n",
      "0:\tlearn: 0.6636811\ttest: 0.6634811\tbest: 0.6634811 (0)\ttotal: 69.5ms\tremaining: 13m 53s\n",
      "500:\tlearn: 0.1474977\ttest: 0.1430973\tbest: 0.1430973 (500)\ttotal: 23.4s\tremaining: 8m 56s\n",
      "1000:\tlearn: 0.1433137\ttest: 0.1392738\tbest: 0.1392738 (1000)\ttotal: 46.5s\tremaining: 8m 30s\n",
      "1500:\tlearn: 0.1416316\ttest: 0.1378614\tbest: 0.1378614 (1500)\ttotal: 1m 9s\tremaining: 8m 6s\n",
      "2000:\tlearn: 0.1406219\ttest: 0.1371325\tbest: 0.1371325 (2000)\ttotal: 1m 32s\tremaining: 7m 41s\n",
      "2500:\tlearn: 0.1398618\ttest: 0.1366153\tbest: 0.1366153 (2500)\ttotal: 1m 55s\tremaining: 7m 18s\n",
      "3000:\tlearn: 0.1392484\ttest: 0.1362350\tbest: 0.1362350 (3000)\ttotal: 2m 18s\tremaining: 6m 56s\n",
      "3500:\tlearn: 0.1387481\ttest: 0.1359445\tbest: 0.1359445 (3500)\ttotal: 2m 42s\tremaining: 6m 33s\n",
      "4000:\tlearn: 0.1382972\ttest: 0.1357129\tbest: 0.1357129 (4000)\ttotal: 3m 5s\tremaining: 6m 10s\n",
      "4500:\tlearn: 0.1378836\ttest: 0.1355032\tbest: 0.1355032 (4500)\ttotal: 3m 28s\tremaining: 5m 47s\n",
      "5000:\tlearn: 0.1375115\ttest: 0.1353306\tbest: 0.1353305 (4999)\ttotal: 3m 52s\tremaining: 5m 24s\n",
      "5500:\tlearn: 0.1371535\ttest: 0.1351708\tbest: 0.1351708 (5500)\ttotal: 4m 15s\tremaining: 5m 2s\n",
      "6000:\tlearn: 0.1368136\ttest: 0.1350268\tbest: 0.1350267 (5995)\ttotal: 4m 39s\tremaining: 4m 39s\n",
      "6500:\tlearn: 0.1364989\ttest: 0.1348865\tbest: 0.1348865 (6500)\ttotal: 5m 2s\tremaining: 4m 16s\n",
      "7000:\tlearn: 0.1361942\ttest: 0.1347758\tbest: 0.1347758 (7000)\ttotal: 5m 26s\tremaining: 3m 53s\n",
      "7500:\tlearn: 0.1359279\ttest: 0.1346836\tbest: 0.1346833 (7496)\ttotal: 5m 50s\tremaining: 3m 29s\n",
      "8000:\tlearn: 0.1356656\ttest: 0.1345900\tbest: 0.1345900 (8000)\ttotal: 6m 13s\tremaining: 3m 6s\n",
      "8500:\tlearn: 0.1353996\ttest: 0.1345093\tbest: 0.1345089 (8495)\ttotal: 6m 36s\tremaining: 2m 43s\n",
      "9000:\tlearn: 0.1351601\ttest: 0.1344400\tbest: 0.1344400 (9000)\ttotal: 7m\tremaining: 2m 20s\n",
      "9500:\tlearn: 0.1349182\ttest: 0.1343695\tbest: 0.1343695 (9500)\ttotal: 7m 23s\tremaining: 1m 56s\n",
      "10000:\tlearn: 0.1346803\ttest: 0.1342978\tbest: 0.1342957 (9992)\ttotal: 7m 47s\tremaining: 1m 33s\n",
      "10500:\tlearn: 0.1344353\ttest: 0.1342190\tbest: 0.1342190 (10500)\ttotal: 8m 10s\tremaining: 1m 10s\n",
      "11000:\tlearn: 0.1342082\ttest: 0.1341589\tbest: 0.1341586 (10997)\ttotal: 8m 34s\tremaining: 46.7s\n",
      "11500:\tlearn: 0.1340006\ttest: 0.1341197\tbest: 0.1341191 (11496)\ttotal: 8m 57s\tremaining: 23.3s\n",
      "11999:\tlearn: 0.1337825\ttest: 0.1340589\tbest: 0.1340585 (11995)\ttotal: 9m 20s\tremaining: 0us\n",
      "bestTest = 0.1340584635\n",
      "bestIteration = 11995\n",
      "Shrink model to first 11996 iterations.\n",
      "Fold 3/5\n",
      "0:\tlearn: 0.6635333\ttest: 0.6634633\tbest: 0.6634633 (0)\ttotal: 69.4ms\tremaining: 13m 52s\n",
      "500:\tlearn: 0.1469695\ttest: 0.1449674\tbest: 0.1449674 (500)\ttotal: 23.6s\tremaining: 9m 1s\n",
      "1000:\tlearn: 0.1430351\ttest: 0.1413237\tbest: 0.1413237 (1000)\ttotal: 46.7s\tremaining: 8m 33s\n",
      "1500:\tlearn: 0.1413316\ttest: 0.1398811\tbest: 0.1398811 (1500)\ttotal: 1m 10s\tremaining: 8m 9s\n",
      "2000:\tlearn: 0.1402749\ttest: 0.1390747\tbest: 0.1390747 (2000)\ttotal: 1m 33s\tremaining: 7m 46s\n",
      "2500:\tlearn: 0.1394981\ttest: 0.1385205\tbest: 0.1385205 (2500)\ttotal: 1m 56s\tremaining: 7m 23s\n",
      "3000:\tlearn: 0.1389063\ttest: 0.1381404\tbest: 0.1381400 (2999)\ttotal: 2m 20s\tremaining: 7m\n",
      "3500:\tlearn: 0.1383893\ttest: 0.1378205\tbest: 0.1378202 (3499)\ttotal: 2m 43s\tremaining: 6m 37s\n",
      "4000:\tlearn: 0.1379549\ttest: 0.1375622\tbest: 0.1375622 (4000)\ttotal: 3m 7s\tremaining: 6m 13s\n",
      "4500:\tlearn: 0.1375473\ttest: 0.1373313\tbest: 0.1373313 (4500)\ttotal: 3m 30s\tremaining: 5m 50s\n",
      "5000:\tlearn: 0.1371851\ttest: 0.1371619\tbest: 0.1371619 (5000)\ttotal: 3m 53s\tremaining: 5m 26s\n",
      "5500:\tlearn: 0.1368379\ttest: 0.1369934\tbest: 0.1369934 (5500)\ttotal: 4m 17s\tremaining: 5m 3s\n",
      "6000:\tlearn: 0.1365134\ttest: 0.1368436\tbest: 0.1368436 (6000)\ttotal: 4m 40s\tremaining: 4m 40s\n",
      "6500:\tlearn: 0.1362382\ttest: 0.1367357\tbest: 0.1367357 (6500)\ttotal: 5m 3s\tremaining: 4m 16s\n",
      "7000:\tlearn: 0.1359506\ttest: 0.1366232\tbest: 0.1366232 (7000)\ttotal: 5m 27s\tremaining: 3m 53s\n",
      "7500:\tlearn: 0.1356649\ttest: 0.1365238\tbest: 0.1365236 (7499)\ttotal: 5m 50s\tremaining: 3m 30s\n",
      "8000:\tlearn: 0.1353843\ttest: 0.1364205\tbest: 0.1364204 (7999)\ttotal: 6m 13s\tremaining: 3m 6s\n",
      "8500:\tlearn: 0.1351151\ttest: 0.1363275\tbest: 0.1363275 (8500)\ttotal: 6m 37s\tremaining: 2m 43s\n",
      "9000:\tlearn: 0.1348736\ttest: 0.1362404\tbest: 0.1362403 (8999)\ttotal: 7m\tremaining: 2m 20s\n",
      "9500:\tlearn: 0.1346194\ttest: 0.1361599\tbest: 0.1361596 (9499)\ttotal: 7m 24s\tremaining: 1m 56s\n",
      "10000:\tlearn: 0.1343749\ttest: 0.1360809\tbest: 0.1360809 (10000)\ttotal: 7m 47s\tremaining: 1m 33s\n",
      "10500:\tlearn: 0.1341510\ttest: 0.1360236\tbest: 0.1360234 (10498)\ttotal: 8m 10s\tremaining: 1m 10s\n",
      "11000:\tlearn: 0.1339252\ttest: 0.1359603\tbest: 0.1359603 (11000)\ttotal: 8m 34s\tremaining: 46.7s\n",
      "11500:\tlearn: 0.1337096\ttest: 0.1359019\tbest: 0.1359019 (11500)\ttotal: 8m 58s\tremaining: 23.3s\n",
      "11999:\tlearn: 0.1335093\ttest: 0.1358592\tbest: 0.1358592 (11998)\ttotal: 9m 21s\tremaining: 0us\n",
      "bestTest = 0.1358591797\n",
      "bestIteration = 11998\n",
      "Shrink model to first 11999 iterations.\n",
      "Fold 4/5\n",
      "0:\tlearn: 0.6636618\ttest: 0.6635630\tbest: 0.6635630 (0)\ttotal: 69.6ms\tremaining: 13m 55s\n",
      "500:\tlearn: 0.1473514\ttest: 0.1425790\tbest: 0.1425790 (500)\ttotal: 23.7s\tremaining: 9m 4s\n",
      "1000:\tlearn: 0.1432390\ttest: 0.1386931\tbest: 0.1386931 (1000)\ttotal: 46.8s\tremaining: 8m 34s\n",
      "1500:\tlearn: 0.1415770\ttest: 0.1372237\tbest: 0.1372237 (1500)\ttotal: 1m 10s\tremaining: 8m 10s\n",
      "2000:\tlearn: 0.1405711\ttest: 0.1364124\tbest: 0.1364124 (2000)\ttotal: 1m 33s\tremaining: 7m 47s\n",
      "2500:\tlearn: 0.1398130\ttest: 0.1358490\tbest: 0.1358490 (2500)\ttotal: 1m 56s\tremaining: 7m 22s\n",
      "3000:\tlearn: 0.1391712\ttest: 0.1353921\tbest: 0.1353921 (3000)\ttotal: 2m 19s\tremaining: 6m 59s\n",
      "3500:\tlearn: 0.1386644\ttest: 0.1350822\tbest: 0.1350822 (3500)\ttotal: 2m 43s\tremaining: 6m 36s\n",
      "4000:\tlearn: 0.1382350\ttest: 0.1348368\tbest: 0.1348368 (4000)\ttotal: 3m 6s\tremaining: 6m 13s\n",
      "4500:\tlearn: 0.1378365\ttest: 0.1346077\tbest: 0.1346077 (4500)\ttotal: 3m 29s\tremaining: 5m 49s\n",
      "5000:\tlearn: 0.1374684\ttest: 0.1344207\tbest: 0.1344207 (5000)\ttotal: 3m 53s\tremaining: 5m 26s\n",
      "5500:\tlearn: 0.1371575\ttest: 0.1342923\tbest: 0.1342923 (5500)\ttotal: 4m 16s\tremaining: 5m 3s\n",
      "6000:\tlearn: 0.1368157\ttest: 0.1341263\tbest: 0.1341263 (6000)\ttotal: 4m 40s\tremaining: 4m 40s\n",
      "6500:\tlearn: 0.1365159\ttest: 0.1340017\tbest: 0.1340017 (6500)\ttotal: 5m 3s\tremaining: 4m 16s\n",
      "7000:\tlearn: 0.1362211\ttest: 0.1338893\tbest: 0.1338892 (6998)\ttotal: 5m 26s\tremaining: 3m 53s\n",
      "7500:\tlearn: 0.1359640\ttest: 0.1338141\tbest: 0.1338141 (7500)\ttotal: 5m 50s\tremaining: 3m 30s\n",
      "8000:\tlearn: 0.1356860\ttest: 0.1337071\tbest: 0.1337071 (8000)\ttotal: 6m 13s\tremaining: 3m 6s\n",
      "8500:\tlearn: 0.1354251\ttest: 0.1336155\tbest: 0.1336155 (8500)\ttotal: 6m 37s\tremaining: 2m 43s\n",
      "9000:\tlearn: 0.1351827\ttest: 0.1335351\tbest: 0.1335348 (8994)\ttotal: 7m\tremaining: 2m 20s\n",
      "9500:\tlearn: 0.1349442\ttest: 0.1334583\tbest: 0.1334580 (9486)\ttotal: 7m 23s\tremaining: 1m 56s\n",
      "10000:\tlearn: 0.1347078\ttest: 0.1333862\tbest: 0.1333862 (9999)\ttotal: 7m 47s\tremaining: 1m 33s\n",
      "10500:\tlearn: 0.1344925\ttest: 0.1333277\tbest: 0.1333272 (10490)\ttotal: 8m 10s\tremaining: 1m 9s\n",
      "11000:\tlearn: 0.1342697\ttest: 0.1332497\tbest: 0.1332497 (11000)\ttotal: 8m 34s\tremaining: 46.7s\n",
      "11500:\tlearn: 0.1340580\ttest: 0.1331922\tbest: 0.1331918 (11499)\ttotal: 8m 57s\tremaining: 23.3s\n",
      "11999:\tlearn: 0.1338410\ttest: 0.1331311\tbest: 0.1331311 (11999)\ttotal: 9m 20s\tremaining: 0us\n",
      "bestTest = 0.1331311198\n",
      "bestIteration = 11999\n",
      "Fold 5/5\n",
      "0:\tlearn: 0.6633732\ttest: 0.6632249\tbest: 0.6632249 (0)\ttotal: 70ms\tremaining: 14m\n",
      "500:\tlearn: 0.1469302\ttest: 0.1434714\tbest: 0.1434714 (500)\ttotal: 23.5s\tremaining: 8m 58s\n",
      "1000:\tlearn: 0.1431007\ttest: 0.1398784\tbest: 0.1398784 (1000)\ttotal: 46.5s\tremaining: 8m 30s\n",
      "1500:\tlearn: 0.1414582\ttest: 0.1384298\tbest: 0.1384298 (1500)\ttotal: 1m 9s\tremaining: 8m 6s\n",
      "2000:\tlearn: 0.1403893\ttest: 0.1375767\tbest: 0.1375767 (2000)\ttotal: 1m 32s\tremaining: 7m 43s\n",
      "2500:\tlearn: 0.1396156\ttest: 0.1369804\tbest: 0.1369804 (2500)\ttotal: 1m 55s\tremaining: 7m 20s\n",
      "3000:\tlearn: 0.1390129\ttest: 0.1365736\tbest: 0.1365736 (3000)\ttotal: 2m 19s\tremaining: 6m 58s\n",
      "3500:\tlearn: 0.1385070\ttest: 0.1362579\tbest: 0.1362577 (3497)\ttotal: 2m 43s\tremaining: 6m 35s\n",
      "4000:\tlearn: 0.1380705\ttest: 0.1359991\tbest: 0.1359990 (3998)\ttotal: 3m 6s\tremaining: 6m 13s\n",
      "4500:\tlearn: 0.1376734\ttest: 0.1357625\tbest: 0.1357625 (4500)\ttotal: 3m 29s\tremaining: 5m 49s\n",
      "5000:\tlearn: 0.1372813\ttest: 0.1355452\tbest: 0.1355448 (4999)\ttotal: 3m 53s\tremaining: 5m 26s\n",
      "5500:\tlearn: 0.1369681\ttest: 0.1354045\tbest: 0.1354044 (5497)\ttotal: 4m 16s\tremaining: 5m 3s\n",
      "6000:\tlearn: 0.1366459\ttest: 0.1352362\tbest: 0.1352362 (5999)\ttotal: 4m 40s\tremaining: 4m 40s\n",
      "6500:\tlearn: 0.1363383\ttest: 0.1350922\tbest: 0.1350920 (6499)\ttotal: 5m 3s\tremaining: 4m 16s\n",
      "7000:\tlearn: 0.1360539\ttest: 0.1349768\tbest: 0.1349768 (7000)\ttotal: 5m 27s\tremaining: 3m 53s\n",
      "7500:\tlearn: 0.1357658\ttest: 0.1348664\tbest: 0.1348664 (7499)\ttotal: 5m 50s\tremaining: 3m 30s\n",
      "8000:\tlearn: 0.1355026\ttest: 0.1347588\tbest: 0.1347588 (8000)\ttotal: 6m 13s\tremaining: 3m 6s\n",
      "8500:\tlearn: 0.1352503\ttest: 0.1346693\tbest: 0.1346693 (8500)\ttotal: 6m 37s\tremaining: 2m 43s\n",
      "9000:\tlearn: 0.1350151\ttest: 0.1345969\tbest: 0.1345969 (9000)\ttotal: 7m\tremaining: 2m 20s\n",
      "9500:\tlearn: 0.1347762\ttest: 0.1345090\tbest: 0.1345090 (9500)\ttotal: 7m 24s\tremaining: 1m 56s\n",
      "10000:\tlearn: 0.1345354\ttest: 0.1344217\tbest: 0.1344212 (9996)\ttotal: 7m 47s\tremaining: 1m 33s\n",
      "10500:\tlearn: 0.1343155\ttest: 0.1343612\tbest: 0.1343612 (10500)\ttotal: 8m 10s\tremaining: 1m 10s\n",
      "11000:\tlearn: 0.1340896\ttest: 0.1342989\tbest: 0.1342989 (11000)\ttotal: 8m 34s\tremaining: 46.7s\n",
      "11500:\tlearn: 0.1338770\ttest: 0.1342274\tbest: 0.1342273 (11499)\ttotal: 8m 57s\tremaining: 23.3s\n",
      "11999:\tlearn: 0.1336808\ttest: 0.1341744\tbest: 0.1341744 (11999)\ttotal: 9m 21s\tremaining: 0us\n",
      "bestTest = 0.134174401\n",
      "bestIteration = 11999\n",
      "Mean CV ROC-AUC: 0.97265\n"
     ]
    }
   ],
   "source": [
    "n_splits = 5\n",
    "skf = StratifiedKFold(n_splits=n_splits, shuffle=True, random_state=42)\n",
    "oof_preds = np.zeros(len(X))\n",
    "test_preds = np.zeros(len(test))\n",
    "\n",
    "for fold, (train_idx, val_idx) in enumerate(skf.split(X, y)):\n",
    "    print(f\"Fold {fold + 1}/{n_splits}\")\n",
    "    X_tr, X_val = X.iloc[train_idx], X.iloc[val_idx]\n",
    "    y_tr, y_val = y.iloc[train_idx], y.iloc[val_idx]\n",
    "    model = CatBoostClassifier(**params)\n",
    "    model.fit(X_tr, y_tr, eval_set=(X_val, y_val))\n",
    "    oof_preds[val_idx] = model.predict_proba(X_val)[:, 1]\n",
    "    test_preds += model.predict_proba(test)[:, 1] / n_splits\n",
    "\n",
    "roc_auc = roc_auc_score(y, oof_preds)\n",
    "print(f\"Mean CV ROC-AUC: {roc_auc:.5f}\")"
   ]
  },
  {
   "cell_type": "code",
   "execution_count": 7,
   "id": "791dac34",
   "metadata": {
    "execution": {
     "iopub.execute_input": "2025-08-07T10:35:38.079778Z",
     "iopub.status.busy": "2025-08-07T10:35:38.079553Z",
     "iopub.status.idle": "2025-08-07T10:35:38.695825Z",
     "shell.execute_reply": "2025-08-07T10:35:38.695000Z"
    },
    "papermill": {
     "duration": 0.625449,
     "end_time": "2025-08-07T10:35:38.697117",
     "exception": false,
     "start_time": "2025-08-07T10:35:38.071668",
     "status": "completed"
    },
    "tags": []
   },
   "outputs": [
    {
     "data": {
      "text/html": [
       "<div>\n",
       "<style scoped>\n",
       "    .dataframe tbody tr th:only-of-type {\n",
       "        vertical-align: middle;\n",
       "    }\n",
       "\n",
       "    .dataframe tbody tr th {\n",
       "        vertical-align: top;\n",
       "    }\n",
       "\n",
       "    .dataframe thead th {\n",
       "        text-align: right;\n",
       "    }\n",
       "</style>\n",
       "<table border=\"1\" class=\"dataframe\">\n",
       "  <thead>\n",
       "    <tr style=\"text-align: right;\">\n",
       "      <th></th>\n",
       "      <th>id</th>\n",
       "      <th>y</th>\n",
       "    </tr>\n",
       "  </thead>\n",
       "  <tbody>\n",
       "    <tr>\n",
       "      <th>0</th>\n",
       "      <td>750000</td>\n",
       "      <td>0.010403</td>\n",
       "    </tr>\n",
       "    <tr>\n",
       "      <th>1</th>\n",
       "      <td>750001</td>\n",
       "      <td>0.145457</td>\n",
       "    </tr>\n",
       "    <tr>\n",
       "      <th>2</th>\n",
       "      <td>750002</td>\n",
       "      <td>0.000332</td>\n",
       "    </tr>\n",
       "    <tr>\n",
       "      <th>3</th>\n",
       "      <td>750003</td>\n",
       "      <td>0.000125</td>\n",
       "    </tr>\n",
       "    <tr>\n",
       "      <th>4</th>\n",
       "      <td>750004</td>\n",
       "      <td>0.039538</td>\n",
       "    </tr>\n",
       "  </tbody>\n",
       "</table>\n",
       "</div>"
      ],
      "text/plain": [
       "       id         y\n",
       "0  750000  0.010403\n",
       "1  750001  0.145457\n",
       "2  750002  0.000332\n",
       "3  750003  0.000125\n",
       "4  750004  0.039538"
      ]
     },
     "execution_count": 7,
     "metadata": {},
     "output_type": "execute_result"
    }
   ],
   "source": [
    "sub = pd.read_csv(\"/kaggle/input/playground-series-s5e8/sample_submission.csv\")\n",
    "sub['y'] = test_preds\n",
    "sub.to_csv(\"submission.csv\", index=False)\n",
    "sub.head()"
   ]
  }
 ],
 "metadata": {
  "kaggle": {
   "accelerator": "nvidiaTeslaT4",
   "dataSources": [
    {
     "databundleVersionId": 12937777,
     "sourceId": 91719,
     "sourceType": "competition"
    }
   ],
   "dockerImageVersionId": 31090,
   "isGpuEnabled": true,
   "isInternetEnabled": true,
   "language": "python",
   "sourceType": "notebook"
  },
  "kernelspec": {
   "display_name": "Python 3",
   "language": "python",
   "name": "python3"
  },
  "language_info": {
   "codemirror_mode": {
    "name": "ipython",
    "version": 3
   },
   "file_extension": ".py",
   "mimetype": "text/x-python",
   "name": "python",
   "nbconvert_exporter": "python",
   "pygments_lexer": "ipython3",
   "version": "3.11.13"
  },
  "papermill": {
   "default_parameters": {},
   "duration": 2905.916485,
   "end_time": "2025-08-07T10:35:40.227517",
   "environment_variables": {},
   "exception": null,
   "input_path": "__notebook__.ipynb",
   "output_path": "__notebook__.ipynb",
   "parameters": {},
   "start_time": "2025-08-07T09:47:14.311032",
   "version": "2.6.0"
  }
 },
 "nbformat": 4,
 "nbformat_minor": 5
}
